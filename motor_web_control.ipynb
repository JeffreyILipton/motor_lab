{
 "cells": [
  {
   "cell_type": "code",
   "execution_count": 56,
   "metadata": {},
   "outputs": [
    {
     "name": "stdout",
     "output_type": "stream",
     "text": [
      "done\n"
     ]
    }
   ],
   "source": [
    "import requests\n",
    "print('done')\n",
    "\n",
    "#to start APi run: ssh student@octopi#.me.washington.edu\n",
    "#password RemoteLab2Day\n",
    "\n",
    "#then run: export FLASK_APP=motorWeb.py\n",
    "#run: python -m flask run --port 5001 --host 0.0.0.0"
   ]
  },
  {
   "cell_type": "code",
   "execution_count": 57,
   "metadata": {},
   "outputs": [
    {
     "name": "stdout",
     "output_type": "stream",
     "text": [
      "You have made it to the motor control machine!\n"
     ]
    }
   ],
   "source": [
    "# octopi11.me.washington.edu\n",
    "#stepper motor\n",
    "URL = \"http://172.25.165.116:5001/\"\n",
    "r = requests.get(url=URL)\n",
    "print(r.text)"
   ]
  },
  {
   "cell_type": "code",
   "execution_count": 58,
   "metadata": {},
   "outputs": [
    {
     "name": "stdout",
     "output_type": "stream",
     "text": [
      "{\"light\":{\"power\":false}}\n",
      "\n"
     ]
    }
   ],
   "source": [
    "URL = \"http://172.25.165.116:5001/laser\"\n",
    "r = requests.get(url=URL)\n",
    "print(r.text)"
   ]
  },
  {
   "cell_type": "code",
   "execution_count": 60,
   "metadata": {},
   "outputs": [
    {
     "name": "stdout",
     "output_type": "stream",
     "text": [
      "laser on or off?0\n",
      "{\"light\":{\"power\":0}}\n",
      "\n"
     ]
    }
   ],
   "source": [
    "on_off=int(input('laser on or off?'))\n",
    "data={\"power\":on_off}\n",
    "r=requests.put(url=URL,json=data)\n",
    "print(r.text)"
   ]
  },
  {
   "cell_type": "code",
   "execution_count": 45,
   "metadata": {},
   "outputs": [
    {
     "name": "stdout",
     "output_type": "stream",
     "text": [
      "{\"motor_loc\":{\"loc\":5}}\n",
      "\n"
     ]
    }
   ],
   "source": [
    "URL = \"http://172.25.165.116:5001/motor\"\n",
    "r = requests.get(url=URL)\n",
    "print(r.text)"
   ]
  },
  {
   "cell_type": "code",
   "execution_count": 47,
   "metadata": {},
   "outputs": [
    {
     "name": "stdout",
     "output_type": "stream",
     "text": [
      "Where should the motor be? 0-2000900\n",
      "{\"motor_loc\":{\"loc\":900}}\n",
      "\n"
     ]
    }
   ],
   "source": [
    "dist=int(input('Where should the motor be? 0-2000'))\n",
    "data={\"loc\":dist}\n",
    "r=requests.put(url=URL,json=data)\n",
    "print(r.text)"
   ]
  },
  {
   "cell_type": "code",
   "execution_count": 66,
   "metadata": {},
   "outputs": [
    {
     "name": "stdout",
     "output_type": "stream",
     "text": [
      "laser on or off?0\n",
      "{\"light\":{\"power\":0}}\n",
      "\n"
     ]
    }
   ],
   "source": [
    "# octopi14.me.washington.edu\n",
    "#stepper2\n",
    "#laser control\n",
    "URL = \"http://172.25.165.119:5001/laser\"\n",
    "r = requests.get(url=URL)\n",
    "on_off=int(input('laser on or off?'))\n",
    "data={\"power\":on_off}\n",
    "r=requests.put(url=URL,json=data)\n",
    "print(r.text)"
   ]
  },
  {
   "cell_type": "code",
   "execution_count": 64,
   "metadata": {},
   "outputs": [
    {
     "name": "stdout",
     "output_type": "stream",
     "text": [
      "Where should the motor be? 0-2000900\n",
      "{\"motor_loc\":{\"loc\":900}}\n",
      "\n"
     ]
    }
   ],
   "source": [
    "#octopi 14 motor control \n",
    "URL = \"http://172.25.165.119:5001/motor\"\n",
    "r = requests.get(url=URL)\n",
    "dist=int(input('Where should the motor be? 0-2000'))\n",
    "data={\"loc\":dist}\n",
    "r=requests.put(url=URL,json=data)\n",
    "print(r.text)"
   ]
  },
  {
   "cell_type": "code",
   "execution_count": 62,
   "metadata": {},
   "outputs": [
    {
     "name": "stdout",
     "output_type": "stream",
     "text": [
      "laser on or off?0\n",
      "{\"light\":{\"power\":0}}\n",
      "\n"
     ]
    }
   ],
   "source": [
    "# octopi12.me.washington.edu\n",
    "#servo1\n",
    "#laser control\n",
    "URL = \"http://172.25.165.117:5001/laser\"\n",
    "r = requests.get(url=URL)\n",
    "on_off=int(input('laser on or off?'))\n",
    "data={\"power\":on_off}\n",
    "r=requests.put(url=URL,json=data)\n",
    "print(r.text)"
   ]
  },
  {
   "cell_type": "code",
   "execution_count": 19,
   "metadata": {},
   "outputs": [
    {
     "name": "stdout",
     "output_type": "stream",
     "text": [
      "Where should the motor be? 0-20030\n",
      "{\"motor_loc\":{\"loc\":30}}\n",
      "\n"
     ]
    }
   ],
   "source": [
    "#octopi 12 motor control \n",
    "URL = \"http://172.25.165.117:5001/motor\"\n",
    "r = requests.get(url=URL)\n",
    "dist=int(input('Where should the motor be? 0-200'))\n",
    "data={\"loc\":dist}\n",
    "r=requests.put(url=URL,json=data)\n",
    "print(r.text)"
   ]
  },
  {
   "cell_type": "code",
   "execution_count": 73,
   "metadata": {},
   "outputs": [
    {
     "name": "stdout",
     "output_type": "stream",
     "text": [
      "laser on or off?0\n",
      "{\"light\":{\"power\":0}}\n",
      "\n"
     ]
    }
   ],
   "source": [
    "# octopi15.me.washington.edu\n",
    "#servo2\n",
    "#laser control\n",
    "URL = \"http://172.25.165.120:5001/laser\"\n",
    "r = requests.get(url=URL)\n",
    "on_off=int(input('laser on or off?'))\n",
    "data={\"power\":on_off}\n",
    "r=requests.put(url=URL,json=data)\n",
    "print(r.text)"
   ]
  },
  {
   "cell_type": "code",
   "execution_count": 70,
   "metadata": {},
   "outputs": [
    {
     "name": "stdout",
     "output_type": "stream",
     "text": [
      "Where should the motor be? 0-200120\n",
      "{\"motor_loc\":{\"loc\":120}}\n",
      "\n"
     ]
    }
   ],
   "source": [
    "#octopi 15 motor control \n",
    "URL = \"http://172.25.165.120:5001/motor\"\n",
    "r = requests.get(url=URL)\n",
    "dist=int(input('Where should the motor be? 0-200'))\n",
    "data={\"loc\":dist}\n",
    "r=requests.put(url=URL,json=data)\n",
    "print(r.text)"
   ]
  }
 ],
 "metadata": {
  "kernelspec": {
   "display_name": "Python 3",
   "language": "python",
   "name": "python3"
  }
 },
 "nbformat": 4,
 "nbformat_minor": 4
}
